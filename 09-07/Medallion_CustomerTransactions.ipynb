{
 "cells": [
  {
   "cell_type": "code",
   "execution_count": 0,
   "metadata": {
    "application/vnd.databricks.v1+cell": {
     "cellMetadata": {
      "byteLimit": 2048000,
      "rowLimit": 10000
     },
     "inputWidgets": {},
     "nuid": "c5b30bac-5fd9-4071-8e2f-c879f1e813c3",
     "showTitle": false,
     "tableResultSettingsMap": {},
     "title": ""
    }
   },
   "outputs": [],
   "source": [
    "#BRONZE LAYER\n",
    "\n",
    "df = spark.read.table(\"workspace.default.raw_customer_transactions\")"
   ]
  },
  {
   "cell_type": "code",
   "execution_count": 0,
   "metadata": {
    "application/vnd.databricks.v1+cell": {
     "cellMetadata": {
      "byteLimit": 2048000,
      "implicitDf": true,
      "rowLimit": 10000
     },
     "inputWidgets": {},
     "nuid": "8105aced-c372-4370-9e2f-9198adb23ff5",
     "showTitle": false,
     "tableResultSettingsMap": {},
     "title": ""
    }
   },
   "outputs": [
    {
     "output_type": "display_data",
     "data": {
      "text/html": [
       "<style scoped>\n",
       "  .table-result-container {\n",
       "    max-height: 300px;\n",
       "    overflow: auto;\n",
       "  }\n",
       "  table, th, td {\n",
       "    border: 1px solid black;\n",
       "    border-collapse: collapse;\n",
       "  }\n",
       "  th, td {\n",
       "    padding: 5px;\n",
       "  }\n",
       "  th {\n",
       "    text-align: left;\n",
       "  }\n",
       "</style><div class='table-result-container'><table class='table-result'><thead style='background-color: white'><tr><th>transaction_id</th><th>customer_id</th><th>transaction_date</th><th>amount</th><th>product_category</th><th>region</th></tr></thead><tbody><tr><td>T001</td><td>C1001</td><td>01/15/2023</td><td>150.75</td><td>Electronics</td><td>US</td></tr><tr><td>T002</td><td>C1002</td><td>01/16/2023</td><td>null</td><td>Clothing</td><td>UK</td></tr><tr><td>T003</td><td>C1001</td><td>01/17/2023</td><td>-25.0</td><td>electronics</td><td>US</td></tr><tr><td>T004</td><td>C1003</td><td>01/18/2023</td><td>300.5</td><td>Books</td><td>null</td></tr><tr><td>T005</td><td>C1002</td><td>01/18/2023</td><td>75.25</td><td>CLOTHING</td><td>UK</td></tr><tr><td>T006</td><td>C1004</td><td>01/19/2023</td><td>200.0</td><td>Books</td><td>US</td></tr><tr><td>T007</td><td>C1001</td><td>01/15/2023</td><td>150.75</td><td>Electronics</td><td>US</td></tr><tr><td>T008</td><td>C1005</td><td>01/20/2023</td><td>450.0</td><td>Home Appliances</td><td>US</td></tr><tr><td>T009</td><td>C1006</td><td>01/21/2023</td><td>89.99</td><td>electronics</td><td>UK</td></tr><tr><td>T010</td><td>C1003</td><td>01/22/2023</td><td>120.0</td><td>Books</td><td>US</td></tr><tr><td>T011</td><td>C1007</td><td>01/23/2023</td><td>-10.5</td><td>Clothing</td><td>null</td></tr><tr><td>T012</td><td>C1002</td><td>01/24/2023</td><td>65.3</td><td>clothing</td><td>UK</td></tr><tr><td>T013</td><td>C1008</td><td>01/25/2023</td><td>750.25</td><td>Electronics</td><td>US</td></tr><tr><td>T014</td><td>C1004</td><td>01/26/2023</td><td>null</td><td>Books</td><td>US</td></tr><tr><td>T015</td><td>C1009</td><td>01/27/2023</td><td>220.0</td><td>Home Appliances</td><td>UK</td></tr><tr><td>T016</td><td>C1010</td><td>01/28/2023</td><td>99.95</td><td>Electronics</td><td>US</td></tr><tr><td>T017</td><td>C1001</td><td>01/29/2023</td><td>175.0</td><td>electronics</td><td>US</td></tr><tr><td>T018</td><td>C1002</td><td>01/30/2023</td><td>45.0</td><td>Clothing</td><td>UK</td></tr><tr><td>T019</td><td>C1003</td><td>01/31/2023</td><td>280.75</td><td>Books</td><td>US</td></tr><tr><td>T020</td><td>C1005</td><td>02-01-2023</td><td>600.0</td><td>Home Appliances</td><td>null</td></tr><tr><td>T021</td><td>C1006</td><td>02-02-2023</td><td>-15.0</td><td>Electronics</td><td>UK</td></tr><tr><td>T022</td><td>C1007</td><td>02-03-2023</td><td>95.25</td><td>Clothing</td><td>US</td></tr><tr><td>T023</td><td>C1008</td><td>02-04-2023</td><td>320.0</td><td>electronics</td><td>US</td></tr><tr><td>T024</td><td>C1009</td><td>02-05-2023</td><td>180.5</td><td>Books</td><td>UK</td></tr><tr><td>T025</td><td>C1010</td><td>02-06-2023</td><td>50.0</td><td>Clothing</td><td>US</td></tr><tr><td>T026</td><td>C1001</td><td>02-07-2023</td><td>200.75</td><td>Electronics</td><td>US</td></tr><tr><td>T027</td><td>C1002</td><td>02-08-2023</td><td>null</td><td>CLOTHING</td><td>UK</td></tr><tr><td>T028</td><td>C1003</td><td>02-09-2023</td><td>310.0</td><td>Books</td><td>US</td></tr><tr><td>T029</td><td>C1004</td><td>02-10-2023</td><td>125.0</td><td>Home Appliances</td><td>US</td></tr><tr><td>T030</td><td>C1005</td><td>02-11-2023</td><td>400.0</td><td>electronics</td><td>UK</td></tr><tr><td>T031</td><td>C1006</td><td>02-12-2023</td><td>75.5</td><td>Clothing</td><td>US</td></tr><tr><td>T032</td><td>C1007</td><td>02/13/2023</td><td>-30.0</td><td>Books</td><td>UK</td></tr><tr><td>T033</td><td>C1008</td><td>02/14/2023</td><td>550.0</td><td>Electronics</td><td>US</td></tr><tr><td>T034</td><td>C1009</td><td>02/15/2023</td><td>90.25</td><td>Clothing</td><td>UK</td></tr><tr><td>T035</td><td>C1010</td><td>02/16/2023</td><td>210.0</td><td>Books</td><td>US</td></tr><tr><td>T036</td><td>C1001</td><td>02/17/2023</td><td>165.75</td><td>Electronics</td><td>US</td></tr><tr><td>T037</td><td>C1002</td><td>02/18/2023</td><td>85.0</td><td>clothing</td><td>UK</td></tr><tr><td>T038</td><td>C1003</td><td>02/19/2023</td><td>270.0</td><td>Books</td><td>null</td></tr><tr><td>T039</td><td>C1004</td><td>02/20/2023</td><td>null</td><td>Home Appliances</td><td>US</td></tr><tr><td>T040</td><td>C1005</td><td>02/21/2023</td><td>380.0</td><td>Electronics</td><td>UK</td></tr><tr><td>T041</td><td>C1006</td><td>02/22/2023</td><td>110.0</td><td>Clothing</td><td>US</td></tr><tr><td>T042</td><td>C1007</td><td>02/23/2023</td><td>95.0</td><td>electronics</td><td>UK</td></tr><tr><td>T043</td><td>C1008</td><td>02/24/2023</td><td>420.0</td><td>Books</td><td>US</td></tr><tr><td>T044</td><td>C1009</td><td>02/25/2023</td><td>-20.0</td><td>Home Appliances</td><td>UK</td></tr><tr><td>T045</td><td>C1010</td><td>02/26/2023</td><td>150.0</td><td>Clothing</td><td>US</td></tr><tr><td>T046</td><td>C1001</td><td>02/27/2023</td><td>190.0</td><td>Electronics</td><td>US</td></tr><tr><td>T047</td><td>C1002</td><td>02/28/2023</td><td>70.25</td><td>CLOTHING</td><td>UK</td></tr><tr><td>T048</td><td>C1003</td><td>03-01-2023</td><td>340.0</td><td>Books</td><td>US</td></tr><tr><td>T049</td><td>C1004</td><td>03-02-2023</td><td>230.0</td><td>Home Appliances</td><td>US</td></tr><tr><td>T050</td><td>C1005</td><td>03-03-2023</td><td>500.0</td><td>Electronics</td><td>UK</td></tr></tbody></table></div>"
      ]
     },
     "metadata": {
      "application/vnd.databricks.v1+output": {
       "addedWidgets": {},
       "aggData": [],
       "aggError": "",
       "aggOverflow": false,
       "aggSchema": [],
       "aggSeriesLimitReached": false,
       "aggType": "",
       "arguments": {},
       "columnCustomDisplayInfos": {},
       "data": [
        [
         "T001",
         "C1001",
         "01/15/2023",
         150.75,
         "Electronics",
         "US"
        ],
        [
         "T002",
         "C1002",
         "01/16/2023",
         null,
         "Clothing",
         "UK"
        ],
        [
         "T003",
         "C1001",
         "01/17/2023",
         -25.0,
         "electronics",
         "US"
        ],
        [
         "T004",
         "C1003",
         "01/18/2023",
         300.5,
         "Books",
         null
        ],
        [
         "T005",
         "C1002",
         "01/18/2023",
         75.25,
         "CLOTHING",
         "UK"
        ],
        [
         "T006",
         "C1004",
         "01/19/2023",
         200.0,
         "Books",
         "US"
        ],
        [
         "T007",
         "C1001",
         "01/15/2023",
         150.75,
         "Electronics",
         "US"
        ],
        [
         "T008",
         "C1005",
         "01/20/2023",
         450.0,
         "Home Appliances",
         "US"
        ],
        [
         "T009",
         "C1006",
         "01/21/2023",
         89.99,
         "electronics",
         "UK"
        ],
        [
         "T010",
         "C1003",
         "01/22/2023",
         120.0,
         "Books",
         "US"
        ],
        [
         "T011",
         "C1007",
         "01/23/2023",
         -10.5,
         "Clothing",
         null
        ],
        [
         "T012",
         "C1002",
         "01/24/2023",
         65.3,
         "clothing",
         "UK"
        ],
        [
         "T013",
         "C1008",
         "01/25/2023",
         750.25,
         "Electronics",
         "US"
        ],
        [
         "T014",
         "C1004",
         "01/26/2023",
         null,
         "Books",
         "US"
        ],
        [
         "T015",
         "C1009",
         "01/27/2023",
         220.0,
         "Home Appliances",
         "UK"
        ],
        [
         "T016",
         "C1010",
         "01/28/2023",
         99.95,
         "Electronics",
         "US"
        ],
        [
         "T017",
         "C1001",
         "01/29/2023",
         175.0,
         "electronics",
         "US"
        ],
        [
         "T018",
         "C1002",
         "01/30/2023",
         45.0,
         "Clothing",
         "UK"
        ],
        [
         "T019",
         "C1003",
         "01/31/2023",
         280.75,
         "Books",
         "US"
        ],
        [
         "T020",
         "C1005",
         "02-01-2023",
         600.0,
         "Home Appliances",
         null
        ],
        [
         "T021",
         "C1006",
         "02-02-2023",
         -15.0,
         "Electronics",
         "UK"
        ],
        [
         "T022",
         "C1007",
         "02-03-2023",
         95.25,
         "Clothing",
         "US"
        ],
        [
         "T023",
         "C1008",
         "02-04-2023",
         320.0,
         "electronics",
         "US"
        ],
        [
         "T024",
         "C1009",
         "02-05-2023",
         180.5,
         "Books",
         "UK"
        ],
        [
         "T025",
         "C1010",
         "02-06-2023",
         50.0,
         "Clothing",
         "US"
        ],
        [
         "T026",
         "C1001",
         "02-07-2023",
         200.75,
         "Electronics",
         "US"
        ],
        [
         "T027",
         "C1002",
         "02-08-2023",
         null,
         "CLOTHING",
         "UK"
        ],
        [
         "T028",
         "C1003",
         "02-09-2023",
         310.0,
         "Books",
         "US"
        ],
        [
         "T029",
         "C1004",
         "02-10-2023",
         125.0,
         "Home Appliances",
         "US"
        ],
        [
         "T030",
         "C1005",
         "02-11-2023",
         400.0,
         "electronics",
         "UK"
        ],
        [
         "T031",
         "C1006",
         "02-12-2023",
         75.5,
         "Clothing",
         "US"
        ],
        [
         "T032",
         "C1007",
         "02/13/2023",
         -30.0,
         "Books",
         "UK"
        ],
        [
         "T033",
         "C1008",
         "02/14/2023",
         550.0,
         "Electronics",
         "US"
        ],
        [
         "T034",
         "C1009",
         "02/15/2023",
         90.25,
         "Clothing",
         "UK"
        ],
        [
         "T035",
         "C1010",
         "02/16/2023",
         210.0,
         "Books",
         "US"
        ],
        [
         "T036",
         "C1001",
         "02/17/2023",
         165.75,
         "Electronics",
         "US"
        ],
        [
         "T037",
         "C1002",
         "02/18/2023",
         85.0,
         "clothing",
         "UK"
        ],
        [
         "T038",
         "C1003",
         "02/19/2023",
         270.0,
         "Books",
         null
        ],
        [
         "T039",
         "C1004",
         "02/20/2023",
         null,
         "Home Appliances",
         "US"
        ],
        [
         "T040",
         "C1005",
         "02/21/2023",
         380.0,
         "Electronics",
         "UK"
        ],
        [
         "T041",
         "C1006",
         "02/22/2023",
         110.0,
         "Clothing",
         "US"
        ],
        [
         "T042",
         "C1007",
         "02/23/2023",
         95.0,
         "electronics",
         "UK"
        ],
        [
         "T043",
         "C1008",
         "02/24/2023",
         420.0,
         "Books",
         "US"
        ],
        [
         "T044",
         "C1009",
         "02/25/2023",
         -20.0,
         "Home Appliances",
         "UK"
        ],
        [
         "T045",
         "C1010",
         "02/26/2023",
         150.0,
         "Clothing",
         "US"
        ],
        [
         "T046",
         "C1001",
         "02/27/2023",
         190.0,
         "Electronics",
         "US"
        ],
        [
         "T047",
         "C1002",
         "02/28/2023",
         70.25,
         "CLOTHING",
         "UK"
        ],
        [
         "T048",
         "C1003",
         "03-01-2023",
         340.0,
         "Books",
         "US"
        ],
        [
         "T049",
         "C1004",
         "03-02-2023",
         230.0,
         "Home Appliances",
         "US"
        ],
        [
         "T050",
         "C1005",
         "03-03-2023",
         500.0,
         "Electronics",
         "UK"
        ]
       ],
       "datasetInfos": [
        {
         "name": "_sqldf",
         "schema": {
          "fields": [
           {
            "metadata": {},
            "name": "transaction_id",
            "nullable": true,
            "type": "string"
           },
           {
            "metadata": {},
            "name": "customer_id",
            "nullable": true,
            "type": "string"
           },
           {
            "metadata": {},
            "name": "transaction_date",
            "nullable": true,
            "type": "string"
           },
           {
            "metadata": {},
            "name": "amount",
            "nullable": true,
            "type": "double"
           },
           {
            "metadata": {},
            "name": "product_category",
            "nullable": true,
            "type": "string"
           },
           {
            "metadata": {},
            "name": "region",
            "nullable": true,
            "type": "string"
           }
          ],
          "type": "struct"
         },
         "tableIdentifier": null,
         "typeStr": "pyspark.sql.connect.dataframe.DataFrame"
        }
       ],
       "dbfsResultPath": null,
       "isJsonSchema": true,
       "metadata": {
        "createTempViewForImplicitDf": true,
        "dataframeName": "_sqldf",
        "executionCount": 4
       },
       "overflow": false,
       "plotOptions": {
        "customPlotOptions": {},
        "displayType": "table",
        "pivotAggregation": null,
        "pivotColumns": null,
        "xColumns": null,
        "yColumns": null
       },
       "removedWidgets": [],
       "schema": [
        {
         "metadata": "{}",
         "name": "transaction_id",
         "type": "\"string\""
        },
        {
         "metadata": "{}",
         "name": "customer_id",
         "type": "\"string\""
        },
        {
         "metadata": "{}",
         "name": "transaction_date",
         "type": "\"string\""
        },
        {
         "metadata": "{}",
         "name": "amount",
         "type": "\"double\""
        },
        {
         "metadata": "{}",
         "name": "product_category",
         "type": "\"string\""
        },
        {
         "metadata": "{}",
         "name": "region",
         "type": "\"string\""
        }
       ],
       "type": "table"
      }
     },
     "output_type": "display_data"
    }
   ],
   "source": [
    "%sql\n",
    "use catalog `workspace`; select * from `default`.`raw_customer_transactions` limit 100;"
   ]
  },
  {
   "cell_type": "code",
   "execution_count": 0,
   "metadata": {
    "application/vnd.databricks.v1+cell": {
     "cellMetadata": {
      "byteLimit": 2048000,
      "rowLimit": 10000
     },
     "inputWidgets": {},
     "nuid": "4d4d0349-9d81-4364-802e-b18514ce4308",
     "showTitle": false,
     "tableResultSettingsMap": {},
     "title": ""
    }
   },
   "outputs": [],
   "source": [
    "#SILVER LAYER\n",
    "\n",
    "from pyspark.sql.functions import lower, col, when, regexp_replace, to_date, avg\n",
    "\n",
    "df = spark.read.table(\"workspace.default.raw_customer_transactions\")\n",
    "\n",
    "# df.printSchema()\n",
    "\n",
    "#dropping duplicates\n",
    "df = df.dropDuplicates()\n",
    "\n",
    "#changing format of date and changing type from string to date\n",
    "df = df.withColumn(\"transaction_date\", to_date(regexp_replace(col(\"transaction_Date\"), \"-\", \"/\"), \"mm/dd/yyyy\"))\n",
    "\n",
    "#filling missing values of amount with average value based on its category, changing negative values to positive\n",
    "df_avg = df.groupBy(\"product_category\").agg(avg(\"amount\").alias(\"avg_cat\"))\n",
    "df_joined = df.join(df_avg, \"product_category\", \"inner\")\n",
    "df = df_joined.withColumn(\"amount\", when(col(\"amount\").isNull(), col(\"avg_cat\"))\n",
    "                           .when(col(\"amount\")<0, -(col(\"amount\")))\n",
    "                           .otherwise(col(\"amount\")))\n",
    "df = df.drop(\"avg_cat\")\n",
    "\n",
    "#changing product category values to lower case\n",
    "df = df.withColumn(\"product_category\", lower(col(\"product_category\")))\n",
    "\n",
    "#filling missing values of region with unknown\n",
    "df = df.withColumn(\"region\", when(col(\"region\").isNull(), \"Unknown\")\n",
    "                    .otherwise(col(\"region\")))\n",
    "\n",
    "#saving dataframe to delta table and silver table is created\n",
    "df.write.format(\"delta\").mode(\"overwrite\").saveAsTable(\"workspace.default.cleaned_customer_transactions\")\n"
   ]
  },
  {
   "cell_type": "code",
   "execution_count": 0,
   "metadata": {
    "application/vnd.databricks.v1+cell": {
     "cellMetadata": {
      "byteLimit": 2048000,
      "implicitDf": true,
      "rowLimit": 10000
     },
     "inputWidgets": {},
     "nuid": "4c02a6e2-c5b1-4e5d-b2b0-bd8dcfc5ad8b",
     "showTitle": false,
     "tableResultSettingsMap": {},
     "title": ""
    }
   },
   "outputs": [
    {
     "output_type": "display_data",
     "data": {
      "text/html": [
       "<style scoped>\n",
       "  .table-result-container {\n",
       "    max-height: 300px;\n",
       "    overflow: auto;\n",
       "  }\n",
       "  table, th, td {\n",
       "    border: 1px solid black;\n",
       "    border-collapse: collapse;\n",
       "  }\n",
       "  th, td {\n",
       "    padding: 5px;\n",
       "  }\n",
       "  th {\n",
       "    text-align: left;\n",
       "  }\n",
       "</style><div class='table-result-container'><table class='table-result'><thead style='background-color: white'><tr><th>product_category</th><th>transaction_id</th><th>customer_id</th><th>transaction_date</th><th>amount</th><th>region</th></tr></thead><tbody><tr><td>clothing</td><td>T041</td><td>C1006</td><td>2023-01-22</td><td>110.0</td><td>US</td></tr><tr><td>electronics</td><td>T007</td><td>C1001</td><td>2023-01-15</td><td>150.75</td><td>US</td></tr><tr><td>electronics</td><td>T017</td><td>C1001</td><td>2023-01-29</td><td>175.0</td><td>US</td></tr><tr><td>clothing</td><td>T002</td><td>C1002</td><td>2023-01-16</td><td>75.6875</td><td>UK</td></tr><tr><td>clothing</td><td>T034</td><td>C1009</td><td>2023-01-15</td><td>90.25</td><td>UK</td></tr><tr><td>home appliances</td><td>T015</td><td>C1009</td><td>2023-01-27</td><td>220.0</td><td>UK</td></tr><tr><td>clothing</td><td>T011</td><td>C1007</td><td>2023-01-23</td><td>10.5</td><td>Unknown</td></tr><tr><td>electronics</td><td>T033</td><td>C1008</td><td>2023-01-14</td><td>550.0</td><td>US</td></tr><tr><td>electronics</td><td>T001</td><td>C1001</td><td>2023-01-15</td><td>150.75</td><td>US</td></tr><tr><td>electronics</td><td>T046</td><td>C1001</td><td>2023-01-27</td><td>190.0</td><td>US</td></tr><tr><td>books</td><td>T010</td><td>C1003</td><td>2023-01-22</td><td>120.0</td><td>US</td></tr><tr><td>clothing</td><td>T031</td><td>C1006</td><td>2023-01-12</td><td>75.5</td><td>US</td></tr><tr><td>home appliances</td><td>T029</td><td>C1004</td><td>2023-01-10</td><td>125.0</td><td>US</td></tr><tr><td>books</td><td>T014</td><td>C1004</td><td>2023-01-26</td><td>236.52272727272728</td><td>US</td></tr><tr><td>electronics</td><td>T021</td><td>C1006</td><td>2023-01-02</td><td>15.0</td><td>UK</td></tr><tr><td>clothing</td><td>T037</td><td>C1002</td><td>2023-01-18</td><td>85.0</td><td>UK</td></tr><tr><td>clothing</td><td>T045</td><td>C1010</td><td>2023-01-26</td><td>150.0</td><td>US</td></tr><tr><td>electronics</td><td>T023</td><td>C1008</td><td>2023-01-04</td><td>320.0</td><td>US</td></tr><tr><td>books</td><td>T024</td><td>C1009</td><td>2023-01-05</td><td>180.5</td><td>UK</td></tr><tr><td>home appliances</td><td>T049</td><td>C1004</td><td>2023-01-02</td><td>230.0</td><td>US</td></tr><tr><td>electronics</td><td>T030</td><td>C1005</td><td>2023-01-11</td><td>400.0</td><td>UK</td></tr><tr><td>books</td><td>T035</td><td>C1010</td><td>2023-01-16</td><td>210.0</td><td>US</td></tr><tr><td>electronics</td><td>T009</td><td>C1006</td><td>2023-01-21</td><td>89.99</td><td>UK</td></tr><tr><td>clothing</td><td>T012</td><td>C1002</td><td>2023-01-24</td><td>65.3</td><td>UK</td></tr><tr><td>clothing</td><td>T027</td><td>C1002</td><td>2023-01-08</td><td>72.75</td><td>UK</td></tr><tr><td>electronics</td><td>T040</td><td>C1005</td><td>2023-01-21</td><td>380.0</td><td>UK</td></tr><tr><td>electronics</td><td>T013</td><td>C1008</td><td>2023-01-25</td><td>750.25</td><td>US</td></tr><tr><td>clothing</td><td>T005</td><td>C1002</td><td>2023-01-18</td><td>75.25</td><td>UK</td></tr><tr><td>electronics</td><td>T026</td><td>C1001</td><td>2023-01-07</td><td>200.75</td><td>US</td></tr><tr><td>books</td><td>T038</td><td>C1003</td><td>2023-01-19</td><td>270.0</td><td>Unknown</td></tr><tr><td>books</td><td>T019</td><td>C1003</td><td>2023-01-31</td><td>280.75</td><td>US</td></tr><tr><td>clothing</td><td>T025</td><td>C1010</td><td>2023-01-06</td><td>50.0</td><td>US</td></tr><tr><td>home appliances</td><td>T044</td><td>C1009</td><td>2023-01-25</td><td>20.0</td><td>UK</td></tr><tr><td>books</td><td>T028</td><td>C1003</td><td>2023-01-09</td><td>310.0</td><td>US</td></tr><tr><td>electronics</td><td>T016</td><td>C1010</td><td>2023-01-28</td><td>99.95</td><td>US</td></tr><tr><td>home appliances</td><td>T039</td><td>C1004</td><td>2023-01-20</td><td>267.5</td><td>US</td></tr><tr><td>books</td><td>T006</td><td>C1004</td><td>2023-01-19</td><td>200.0</td><td>US</td></tr><tr><td>home appliances</td><td>T020</td><td>C1005</td><td>2023-01-01</td><td>600.0</td><td>Unknown</td></tr><tr><td>books</td><td>T048</td><td>C1003</td><td>2023-01-01</td><td>340.0</td><td>US</td></tr><tr><td>electronics</td><td>T042</td><td>C1007</td><td>2023-01-23</td><td>95.0</td><td>UK</td></tr><tr><td>books</td><td>T043</td><td>C1008</td><td>2023-01-24</td><td>420.0</td><td>US</td></tr><tr><td>electronics</td><td>T050</td><td>C1005</td><td>2023-01-03</td><td>500.0</td><td>UK</td></tr><tr><td>electronics</td><td>T036</td><td>C1001</td><td>2023-01-17</td><td>165.75</td><td>US</td></tr><tr><td>books</td><td>T004</td><td>C1003</td><td>2023-01-18</td><td>300.5</td><td>Unknown</td></tr><tr><td>electronics</td><td>T003</td><td>C1001</td><td>2023-01-17</td><td>25.0</td><td>US</td></tr><tr><td>clothing</td><td>T018</td><td>C1002</td><td>2023-01-30</td><td>45.0</td><td>UK</td></tr><tr><td>clothing</td><td>T047</td><td>C1002</td><td>2023-01-28</td><td>70.25</td><td>UK</td></tr><tr><td>books</td><td>T032</td><td>C1007</td><td>2023-01-13</td><td>30.0</td><td>UK</td></tr><tr><td>home appliances</td><td>T008</td><td>C1005</td><td>2023-01-20</td><td>450.0</td><td>US</td></tr><tr><td>clothing</td><td>T022</td><td>C1007</td><td>2023-01-03</td><td>95.25</td><td>US</td></tr></tbody></table></div>"
      ]
     },
     "metadata": {
      "application/vnd.databricks.v1+output": {
       "addedWidgets": {},
       "aggData": [],
       "aggError": "",
       "aggOverflow": false,
       "aggSchema": [],
       "aggSeriesLimitReached": false,
       "aggType": "",
       "arguments": {},
       "columnCustomDisplayInfos": {},
       "data": [
        [
         "clothing",
         "T041",
         "C1006",
         "2023-01-22",
         110.0,
         "US"
        ],
        [
         "electronics",
         "T007",
         "C1001",
         "2023-01-15",
         150.75,
         "US"
        ],
        [
         "electronics",
         "T017",
         "C1001",
         "2023-01-29",
         175.0,
         "US"
        ],
        [
         "clothing",
         "T002",
         "C1002",
         "2023-01-16",
         75.6875,
         "UK"
        ],
        [
         "clothing",
         "T034",
         "C1009",
         "2023-01-15",
         90.25,
         "UK"
        ],
        [
         "home appliances",
         "T015",
         "C1009",
         "2023-01-27",
         220.0,
         "UK"
        ],
        [
         "clothing",
         "T011",
         "C1007",
         "2023-01-23",
         10.5,
         "Unknown"
        ],
        [
         "electronics",
         "T033",
         "C1008",
         "2023-01-14",
         550.0,
         "US"
        ],
        [
         "electronics",
         "T001",
         "C1001",
         "2023-01-15",
         150.75,
         "US"
        ],
        [
         "electronics",
         "T046",
         "C1001",
         "2023-01-27",
         190.0,
         "US"
        ],
        [
         "books",
         "T010",
         "C1003",
         "2023-01-22",
         120.0,
         "US"
        ],
        [
         "clothing",
         "T031",
         "C1006",
         "2023-01-12",
         75.5,
         "US"
        ],
        [
         "home appliances",
         "T029",
         "C1004",
         "2023-01-10",
         125.0,
         "US"
        ],
        [
         "books",
         "T014",
         "C1004",
         "2023-01-26",
         236.52272727272728,
         "US"
        ],
        [
         "electronics",
         "T021",
         "C1006",
         "2023-01-02",
         15.0,
         "UK"
        ],
        [
         "clothing",
         "T037",
         "C1002",
         "2023-01-18",
         85.0,
         "UK"
        ],
        [
         "clothing",
         "T045",
         "C1010",
         "2023-01-26",
         150.0,
         "US"
        ],
        [
         "electronics",
         "T023",
         "C1008",
         "2023-01-04",
         320.0,
         "US"
        ],
        [
         "books",
         "T024",
         "C1009",
         "2023-01-05",
         180.5,
         "UK"
        ],
        [
         "home appliances",
         "T049",
         "C1004",
         "2023-01-02",
         230.0,
         "US"
        ],
        [
         "electronics",
         "T030",
         "C1005",
         "2023-01-11",
         400.0,
         "UK"
        ],
        [
         "books",
         "T035",
         "C1010",
         "2023-01-16",
         210.0,
         "US"
        ],
        [
         "electronics",
         "T009",
         "C1006",
         "2023-01-21",
         89.99,
         "UK"
        ],
        [
         "clothing",
         "T012",
         "C1002",
         "2023-01-24",
         65.3,
         "UK"
        ],
        [
         "clothing",
         "T027",
         "C1002",
         "2023-01-08",
         72.75,
         "UK"
        ],
        [
         "electronics",
         "T040",
         "C1005",
         "2023-01-21",
         380.0,
         "UK"
        ],
        [
         "electronics",
         "T013",
         "C1008",
         "2023-01-25",
         750.25,
         "US"
        ],
        [
         "clothing",
         "T005",
         "C1002",
         "2023-01-18",
         75.25,
         "UK"
        ],
        [
         "electronics",
         "T026",
         "C1001",
         "2023-01-07",
         200.75,
         "US"
        ],
        [
         "books",
         "T038",
         "C1003",
         "2023-01-19",
         270.0,
         "Unknown"
        ],
        [
         "books",
         "T019",
         "C1003",
         "2023-01-31",
         280.75,
         "US"
        ],
        [
         "clothing",
         "T025",
         "C1010",
         "2023-01-06",
         50.0,
         "US"
        ],
        [
         "home appliances",
         "T044",
         "C1009",
         "2023-01-25",
         20.0,
         "UK"
        ],
        [
         "books",
         "T028",
         "C1003",
         "2023-01-09",
         310.0,
         "US"
        ],
        [
         "electronics",
         "T016",
         "C1010",
         "2023-01-28",
         99.95,
         "US"
        ],
        [
         "home appliances",
         "T039",
         "C1004",
         "2023-01-20",
         267.5,
         "US"
        ],
        [
         "books",
         "T006",
         "C1004",
         "2023-01-19",
         200.0,
         "US"
        ],
        [
         "home appliances",
         "T020",
         "C1005",
         "2023-01-01",
         600.0,
         "Unknown"
        ],
        [
         "books",
         "T048",
         "C1003",
         "2023-01-01",
         340.0,
         "US"
        ],
        [
         "electronics",
         "T042",
         "C1007",
         "2023-01-23",
         95.0,
         "UK"
        ],
        [
         "books",
         "T043",
         "C1008",
         "2023-01-24",
         420.0,
         "US"
        ],
        [
         "electronics",
         "T050",
         "C1005",
         "2023-01-03",
         500.0,
         "UK"
        ],
        [
         "electronics",
         "T036",
         "C1001",
         "2023-01-17",
         165.75,
         "US"
        ],
        [
         "books",
         "T004",
         "C1003",
         "2023-01-18",
         300.5,
         "Unknown"
        ],
        [
         "electronics",
         "T003",
         "C1001",
         "2023-01-17",
         25.0,
         "US"
        ],
        [
         "clothing",
         "T018",
         "C1002",
         "2023-01-30",
         45.0,
         "UK"
        ],
        [
         "clothing",
         "T047",
         "C1002",
         "2023-01-28",
         70.25,
         "UK"
        ],
        [
         "books",
         "T032",
         "C1007",
         "2023-01-13",
         30.0,
         "UK"
        ],
        [
         "home appliances",
         "T008",
         "C1005",
         "2023-01-20",
         450.0,
         "US"
        ],
        [
         "clothing",
         "T022",
         "C1007",
         "2023-01-03",
         95.25,
         "US"
        ]
       ],
       "datasetInfos": [
        {
         "name": "_sqldf",
         "schema": {
          "fields": [
           {
            "metadata": {},
            "name": "product_category",
            "nullable": true,
            "type": "string"
           },
           {
            "metadata": {},
            "name": "transaction_id",
            "nullable": true,
            "type": "string"
           },
           {
            "metadata": {},
            "name": "customer_id",
            "nullable": true,
            "type": "string"
           },
           {
            "metadata": {},
            "name": "transaction_date",
            "nullable": true,
            "type": "date"
           },
           {
            "metadata": {},
            "name": "amount",
            "nullable": true,
            "type": "double"
           },
           {
            "metadata": {},
            "name": "region",
            "nullable": true,
            "type": "string"
           }
          ],
          "type": "struct"
         },
         "tableIdentifier": null,
         "typeStr": "pyspark.sql.connect.dataframe.DataFrame"
        }
       ],
       "dbfsResultPath": null,
       "isJsonSchema": true,
       "metadata": {
        "createTempViewForImplicitDf": true,
        "dataframeName": "_sqldf",
        "executionCount": 7
       },
       "overflow": false,
       "plotOptions": {
        "customPlotOptions": {},
        "displayType": "table",
        "pivotAggregation": null,
        "pivotColumns": null,
        "xColumns": null,
        "yColumns": null
       },
       "removedWidgets": [],
       "schema": [
        {
         "metadata": "{}",
         "name": "product_category",
         "type": "\"string\""
        },
        {
         "metadata": "{}",
         "name": "transaction_id",
         "type": "\"string\""
        },
        {
         "metadata": "{}",
         "name": "customer_id",
         "type": "\"string\""
        },
        {
         "metadata": "{}",
         "name": "transaction_date",
         "type": "\"date\""
        },
        {
         "metadata": "{}",
         "name": "amount",
         "type": "\"double\""
        },
        {
         "metadata": "{}",
         "name": "region",
         "type": "\"string\""
        }
       ],
       "type": "table"
      }
     },
     "output_type": "display_data"
    }
   ],
   "source": [
    "%sql\n",
    "use catalog `workspace`; select * from `default`.`cleaned_customer_transactions` limit 100;"
   ]
  },
  {
   "cell_type": "code",
   "execution_count": 0,
   "metadata": {
    "application/vnd.databricks.v1+cell": {
     "cellMetadata": {
      "byteLimit": 2048000,
      "rowLimit": 10000
     },
     "inputWidgets": {},
     "nuid": "b9da772a-8bca-49cd-b551-c47fdd2c9b59",
     "showTitle": false,
     "tableResultSettingsMap": {},
     "title": ""
    }
   },
   "outputs": [],
   "source": [
    "#GOLD LAYER\n",
    "\n",
    "from pyspark.sql.functions import count, sum, max, min, collect_set\n",
    "\n",
    "df = spark.read.table(\"workspace.default.cleaned_customer_transactions\")\n",
    "\n",
    "df_gold = df.groupBy(\"customer_id\").agg(\n",
    "    count(\"customer_id\").alias(\"no_of_orders\"),\n",
    "    sum(\"amount\").alias(\"total_amount\"),\n",
    "    max(\"amount\").alias(\"max_amount\"),\n",
    "    min(\"amount\").alias(\"min_amount\"),\n",
    "    count(\"transaction_id\").alias(\"transactions\"), \n",
    "    min(\"transaction_date\").alias(\"first_purchased\"),\n",
    "    max(\"transaction_date\").alias(\"last_purchased\"),\n",
    "    collect_set(\"product_category\").alias(\"categories\"),\n",
    "    collect_set(\"region\").alias(\"regions\"),\n",
    ")\n",
    "\n",
    "df_gold.write.format(\"delta\").mode(\"overwrite\").saveAsTable(\"gold_customer_transactions\")"
   ]
  },
  {
   "cell_type": "code",
   "execution_count": 0,
   "metadata": {
    "application/vnd.databricks.v1+cell": {
     "cellMetadata": {
      "byteLimit": 2048000,
      "implicitDf": true,
      "rowLimit": 10000
     },
     "inputWidgets": {},
     "nuid": "28cb03d0-c8a9-4824-b429-232ae0a98b41",
     "showTitle": false,
     "tableResultSettingsMap": {},
     "title": ""
    }
   },
   "outputs": [
    {
     "output_type": "display_data",
     "data": {
      "text/html": [
       "<style scoped>\n",
       "  .table-result-container {\n",
       "    max-height: 300px;\n",
       "    overflow: auto;\n",
       "  }\n",
       "  table, th, td {\n",
       "    border: 1px solid black;\n",
       "    border-collapse: collapse;\n",
       "  }\n",
       "  th, td {\n",
       "    padding: 5px;\n",
       "  }\n",
       "  th {\n",
       "    text-align: left;\n",
       "  }\n",
       "</style><div class='table-result-container'><table class='table-result'><thead style='background-color: white'><tr><th>customer_id</th><th>no_of_orders</th><th>total_amount</th><th>max_amount</th><th>min_amount</th><th>transactions</th><th>first_purchased</th><th>last_purchased</th><th>categories</th><th>regions</th></tr></thead><tbody><tr><td>C1003</td><td>6</td><td>1621.25</td><td>340.0</td><td>120.0</td><td>6</td><td>2023-01-01</td><td>2023-01-31</td><td>List(books)</td><td>List(US, Unknown)</td></tr><tr><td>C1010</td><td>4</td><td>509.95</td><td>210.0</td><td>50.0</td><td>4</td><td>2023-01-06</td><td>2023-01-28</td><td>List(electronics, clothing, books)</td><td>List(US)</td></tr><tr><td>C1005</td><td>5</td><td>2330.0</td><td>600.0</td><td>380.0</td><td>5</td><td>2023-01-01</td><td>2023-01-21</td><td>List(home appliances, electronics)</td><td>List(US, Unknown, UK)</td></tr><tr><td>C1002</td><td>7</td><td>489.2375</td><td>85.0</td><td>45.0</td><td>7</td><td>2023-01-08</td><td>2023-01-30</td><td>List(clothing)</td><td>List(UK)</td></tr><tr><td>C1007</td><td>4</td><td>230.75</td><td>95.25</td><td>10.5</td><td>4</td><td>2023-01-03</td><td>2023-01-23</td><td>List(clothing, electronics, books)</td><td>List(US, UK, Unknown)</td></tr><tr><td>C1006</td><td>4</td><td>290.49</td><td>110.0</td><td>15.0</td><td>4</td><td>2023-01-02</td><td>2023-01-22</td><td>List(clothing, electronics)</td><td>List(US, UK)</td></tr><tr><td>C1004</td><td>5</td><td>1059.0227272727273</td><td>267.5</td><td>125.0</td><td>5</td><td>2023-01-02</td><td>2023-01-26</td><td>List(home appliances, books)</td><td>List(US)</td></tr><tr><td>C1009</td><td>4</td><td>510.75</td><td>220.0</td><td>20.0</td><td>4</td><td>2023-01-05</td><td>2023-01-27</td><td>List(clothing, home appliances, books)</td><td>List(UK)</td></tr><tr><td>C1001</td><td>7</td><td>1058.0</td><td>200.75</td><td>25.0</td><td>7</td><td>2023-01-07</td><td>2023-01-29</td><td>List(electronics)</td><td>List(US)</td></tr><tr><td>C1008</td><td>4</td><td>2040.25</td><td>750.25</td><td>320.0</td><td>4</td><td>2023-01-04</td><td>2023-01-25</td><td>List(books, electronics)</td><td>List(US)</td></tr></tbody></table></div>"
      ]
     },
     "metadata": {
      "application/vnd.databricks.v1+output": {
       "addedWidgets": {},
       "aggData": [],
       "aggError": "",
       "aggOverflow": false,
       "aggSchema": [],
       "aggSeriesLimitReached": false,
       "aggType": "",
       "arguments": {},
       "columnCustomDisplayInfos": {},
       "data": [
        [
         "C1003",
         6,
         1621.25,
         340.0,
         120.0,
         6,
         "2023-01-01",
         "2023-01-31",
         [
          "books"
         ],
         [
          "US",
          "Unknown"
         ]
        ],
        [
         "C1010",
         4,
         509.95,
         210.0,
         50.0,
         4,
         "2023-01-06",
         "2023-01-28",
         [
          "electronics",
          "clothing",
          "books"
         ],
         [
          "US"
         ]
        ],
        [
         "C1005",
         5,
         2330.0,
         600.0,
         380.0,
         5,
         "2023-01-01",
         "2023-01-21",
         [
          "home appliances",
          "electronics"
         ],
         [
          "US",
          "Unknown",
          "UK"
         ]
        ],
        [
         "C1002",
         7,
         489.2375,
         85.0,
         45.0,
         7,
         "2023-01-08",
         "2023-01-30",
         [
          "clothing"
         ],
         [
          "UK"
         ]
        ],
        [
         "C1007",
         4,
         230.75,
         95.25,
         10.5,
         4,
         "2023-01-03",
         "2023-01-23",
         [
          "clothing",
          "electronics",
          "books"
         ],
         [
          "US",
          "UK",
          "Unknown"
         ]
        ],
        [
         "C1006",
         4,
         290.49,
         110.0,
         15.0,
         4,
         "2023-01-02",
         "2023-01-22",
         [
          "clothing",
          "electronics"
         ],
         [
          "US",
          "UK"
         ]
        ],
        [
         "C1004",
         5,
         1059.0227272727273,
         267.5,
         125.0,
         5,
         "2023-01-02",
         "2023-01-26",
         [
          "home appliances",
          "books"
         ],
         [
          "US"
         ]
        ],
        [
         "C1009",
         4,
         510.75,
         220.0,
         20.0,
         4,
         "2023-01-05",
         "2023-01-27",
         [
          "clothing",
          "home appliances",
          "books"
         ],
         [
          "UK"
         ]
        ],
        [
         "C1001",
         7,
         1058.0,
         200.75,
         25.0,
         7,
         "2023-01-07",
         "2023-01-29",
         [
          "electronics"
         ],
         [
          "US"
         ]
        ],
        [
         "C1008",
         4,
         2040.25,
         750.25,
         320.0,
         4,
         "2023-01-04",
         "2023-01-25",
         [
          "books",
          "electronics"
         ],
         [
          "US"
         ]
        ]
       ],
       "datasetInfos": [
        {
         "name": "_sqldf",
         "schema": {
          "fields": [
           {
            "metadata": {},
            "name": "customer_id",
            "nullable": true,
            "type": "string"
           },
           {
            "metadata": {},
            "name": "no_of_orders",
            "nullable": true,
            "type": "long"
           },
           {
            "metadata": {},
            "name": "total_amount",
            "nullable": true,
            "type": "double"
           },
           {
            "metadata": {},
            "name": "max_amount",
            "nullable": true,
            "type": "double"
           },
           {
            "metadata": {},
            "name": "min_amount",
            "nullable": true,
            "type": "double"
           },
           {
            "metadata": {},
            "name": "transactions",
            "nullable": true,
            "type": "long"
           },
           {
            "metadata": {},
            "name": "first_purchased",
            "nullable": true,
            "type": "date"
           },
           {
            "metadata": {},
            "name": "last_purchased",
            "nullable": true,
            "type": "date"
           },
           {
            "metadata": {},
            "name": "categories",
            "nullable": true,
            "type": {
             "containsNull": true,
             "elementType": "string",
             "type": "array"
            }
           },
           {
            "metadata": {},
            "name": "regions",
            "nullable": true,
            "type": {
             "containsNull": true,
             "elementType": "string",
             "type": "array"
            }
           }
          ],
          "type": "struct"
         },
         "tableIdentifier": null,
         "typeStr": "pyspark.sql.connect.dataframe.DataFrame"
        }
       ],
       "dbfsResultPath": null,
       "isJsonSchema": true,
       "metadata": {
        "createTempViewForImplicitDf": true,
        "dataframeName": "_sqldf",
        "executionCount": 10
       },
       "overflow": false,
       "plotOptions": {
        "customPlotOptions": {},
        "displayType": "table",
        "pivotAggregation": null,
        "pivotColumns": null,
        "xColumns": null,
        "yColumns": null
       },
       "removedWidgets": [],
       "schema": [
        {
         "metadata": "{}",
         "name": "customer_id",
         "type": "\"string\""
        },
        {
         "metadata": "{}",
         "name": "no_of_orders",
         "type": "\"long\""
        },
        {
         "metadata": "{}",
         "name": "total_amount",
         "type": "\"double\""
        },
        {
         "metadata": "{}",
         "name": "max_amount",
         "type": "\"double\""
        },
        {
         "metadata": "{}",
         "name": "min_amount",
         "type": "\"double\""
        },
        {
         "metadata": "{}",
         "name": "transactions",
         "type": "\"long\""
        },
        {
         "metadata": "{}",
         "name": "first_purchased",
         "type": "\"date\""
        },
        {
         "metadata": "{}",
         "name": "last_purchased",
         "type": "\"date\""
        },
        {
         "metadata": "{}",
         "name": "categories",
         "type": "{\"containsNull\":true,\"elementType\":\"string\",\"type\":\"array\"}"
        },
        {
         "metadata": "{}",
         "name": "regions",
         "type": "{\"containsNull\":true,\"elementType\":\"string\",\"type\":\"array\"}"
        }
       ],
       "type": "table"
      }
     },
     "output_type": "display_data"
    }
   ],
   "source": [
    "%sql\n",
    "use catalog `workspace`; select * from `default`.`gold_customer_transactions` limit 100;"
   ]
  }
 ],
 "metadata": {
  "application/vnd.databricks.v1+notebook": {
   "computePreferences": null,
   "dashboards": [],
   "environmentMetadata": {
    "base_environment": "",
    "environment_version": "2"
   },
   "inputWidgetPreferences": null,
   "language": "python",
   "notebookMetadata": {
    "mostRecentlyExecutedCommandWithImplicitDF": {
     "commandId": 4939026031588385,
     "dataframes": [
      "_sqldf"
     ]
    },
    "pythonIndentUnit": 4
   },
   "notebookName": "Medallion_CustomerTransactions",
   "widgets": {}
  },
  "language_info": {
   "name": "python"
  }
 },
 "nbformat": 4,
 "nbformat_minor": 0
}