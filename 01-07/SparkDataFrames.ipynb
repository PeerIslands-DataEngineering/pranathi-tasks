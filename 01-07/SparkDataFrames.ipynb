{
  "nbformat": 4,
  "nbformat_minor": 0,
  "metadata": {
    "colab": {
      "provenance": []
    },
    "kernelspec": {
      "name": "python3",
      "display_name": "Python 3"
    },
    "language_info": {
      "name": "python"
    }
  },
  "cells": [
    {
      "cell_type": "code",
      "source": [
        "from pyspark.sql import SparkSession\n",
        "from pyspark.sql.functions import desc, avg\n",
        "\n",
        "spark = SparkSession.builder.appName(\"parquet file\").getOrCreate()\n",
        "\n",
        "df = spark.read.parquet(\"/content/titanic.parquet\")\n",
        "df.printSchema()\n",
        "\n",
        "df = df.groupBy(\"Pclass\", \"Sex\").agg(avg(\"Survived\"))\n",
        "\n",
        "df.orderBy(\"Pclass\", desc(avg(\"Survived\"))).show()"
      ],
      "metadata": {
        "colab": {
          "base_uri": "https://localhost:8080/"
        },
        "id": "IicsQi7GyqsC",
        "outputId": "be5753c2-5d0c-4eaf-95f4-3c8d8cfd814a"
      },
      "execution_count": 37,
      "outputs": [
        {
          "output_type": "stream",
          "name": "stdout",
          "text": [
            "root\n",
            " |-- PassengerId: long (nullable = true)\n",
            " |-- Survived: long (nullable = true)\n",
            " |-- Pclass: long (nullable = true)\n",
            " |-- Name: string (nullable = true)\n",
            " |-- Sex: string (nullable = true)\n",
            " |-- Age: double (nullable = true)\n",
            " |-- SibSp: long (nullable = true)\n",
            " |-- Parch: long (nullable = true)\n",
            " |-- Ticket: string (nullable = true)\n",
            " |-- Fare: double (nullable = true)\n",
            " |-- Cabin: string (nullable = true)\n",
            " |-- Embarked: string (nullable = true)\n",
            "\n",
            "+------+------+-------------------+\n",
            "|Pclass|   Sex|      avg(Survived)|\n",
            "+------+------+-------------------+\n",
            "|     1|female| 0.9680851063829787|\n",
            "|     1|  male|0.36885245901639346|\n",
            "|     2|female| 0.9210526315789473|\n",
            "|     2|  male| 0.1574074074074074|\n",
            "|     3|female|                0.5|\n",
            "|     3|  male|0.13544668587896252|\n",
            "+------+------+-------------------+\n",
            "\n"
          ]
        }
      ]
    },
    {
      "cell_type": "code",
      "source": [
        "from pyspark.sql.functions import desc, avg\n",
        "\n",
        "df = spark.read.parquet(\"/content/titanic.parquet\")\n",
        "# df.show(20)\n",
        "df = df.dropna(subset=[\"Fare\", \"Age\"])\n",
        "# df.show(20)\n",
        "df = df.groupBy(\"Embarked\").agg(avg(\"Fare\"), avg(\"Age\"))\n",
        "\n",
        "df = df.orderBy(desc(avg(\"Fare\")))\n",
        "df.show()"
      ],
      "metadata": {
        "colab": {
          "base_uri": "https://localhost:8080/"
        },
        "id": "NwOqWPTmzHOE",
        "outputId": "1282835f-14e5-493b-aca5-7d0ef6c06f18"
      },
      "execution_count": 36,
      "outputs": [
        {
          "output_type": "stream",
          "name": "stdout",
          "text": [
            "+--------+------------------+------------------+\n",
            "|Embarked|         avg(Fare)|          avg(Age)|\n",
            "+--------+------------------+------------------+\n",
            "|    NULL|              80.0|              50.0|\n",
            "|       C| 68.29676692307693| 30.81476923076923|\n",
            "|       S|27.476284476534268| 29.44539711191336|\n",
            "|       Q|         18.265775|28.089285714285715|\n",
            "+--------+------------------+------------------+\n",
            "\n"
          ]
        }
      ]
    },
    {
      "cell_type": "code",
      "source": [
        "from pyspark.sql.functions import col\n",
        "\n",
        "df = spark.read.parquet(\"/content/titanic.parquet\")\n",
        "\n",
        "df = df.filter(col(\"Survived\")==1)\n",
        "\n",
        "df = df.orderBy(desc(\"Fare\"))\n",
        "df.select(\"Name\", \"Pclass\", \"Sex\", \"Fare\", \"Cabin\").show(5)"
      ],
      "metadata": {
        "colab": {
          "base_uri": "https://localhost:8080/"
        },
        "id": "k34cc37K2j1t",
        "outputId": "54917bae-910d-4c22-82b1-09065f70e6d1"
      },
      "execution_count": 46,
      "outputs": [
        {
          "output_type": "stream",
          "name": "stdout",
          "text": [
            "+--------------------+------+------+--------+-----------+\n",
            "|                Name|Pclass|   Sex|    Fare|      Cabin|\n",
            "+--------------------+------+------+--------+-----------+\n",
            "|    Ward, Miss. Anna|     1|female|512.3292|       NULL|\n",
            "|Cardeza, Mr. Thom...|     1|  male|512.3292|B51 B53 B55|\n",
            "|Lesurer, Mr. Gust...|     1|  male|512.3292|       B101|\n",
            "|Fortune, Miss. Ma...|     1|female|   263.0|C23 C25 C27|\n",
            "|Fortune, Miss. Al...|     1|female|   263.0|C23 C25 C27|\n",
            "+--------------------+------+------+--------+-----------+\n",
            "only showing top 5 rows\n",
            "\n"
          ]
        }
      ]
    }
  ]
}