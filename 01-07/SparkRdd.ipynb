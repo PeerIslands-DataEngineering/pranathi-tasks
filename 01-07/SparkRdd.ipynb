{
  "nbformat": 4,
  "nbformat_minor": 0,
  "metadata": {
    "colab": {
      "provenance": []
    },
    "kernelspec": {
      "name": "python3",
      "display_name": "Python 3"
    },
    "language_info": {
      "name": "python"
    }
  },
  "cells": [
    {
      "cell_type": "code",
      "execution_count": 2,
      "metadata": {
        "colab": {
          "base_uri": "https://localhost:8080/"
        },
        "id": "UDnmW0HxpYsD",
        "outputId": "1f643e41-996e-4d92-c574-46ecb43c47cb"
      },
      "outputs": [
        {
          "output_type": "execute_result",
          "data": {
            "text/plain": [
              "[('Hi,', 2),\n",
              " ('this', 2),\n",
              " ('pranathi', 1),\n",
              " ('I', 1),\n",
              " ('am', 1),\n",
              " ('recent', 1),\n",
              " ('graduate', 1),\n",
              " ('issue', 1)]"
            ]
          },
          "metadata": {},
          "execution_count": 2
        }
      ],
      "source": [
        "from pyspark import SparkContext\n",
        "# sc.stop()\n",
        "\n",
        "sc = SparkContext(\"local\",\"RDD1\")\n",
        "\n",
        "stopwords = [\"is\", \"the\", \"a\", \"an\"]\n",
        "\n",
        "data = [\"Hi, this is pranathi\", \"I am a recent graduate\", \"Hi, is this an issue\"]\n",
        "rdd = sc.parallelize(data).flatMap(lambda x:x.split(\" \"))\n",
        "\n",
        "rdd1 = rdd.filter(lambda x: x not in stopwords )\n",
        "\n",
        "rdd2 = rdd1.map(lambda x: (x,1))\n",
        "\n",
        "rdd3 = rdd2.reduceByKey(lambda x,y : x+y)\n",
        "rdd3.collect()\n",
        "\n"
      ]
    },
    {
      "cell_type": "code",
      "source": [
        "data = [(\"Alice\", 80), (\"Bob\", 90), (\"Alice\", 70), (\"Bob\", 85), (\"Charlie\", 60)]\n",
        "\n",
        "rdd = sc.parallelize(data)\n",
        "\n",
        "rdd1 = rdd.map(lambda x: (x[0], (x[1],1)))\n",
        "\n",
        "rdd2 = rdd1.reduceByKey(lambda x,y: (x[0]+y[0], x[1]+y[1]))\n",
        "\n",
        "rdd3 = rdd2.map(lambda x: (x[0], (x[1][0]/x[1][1])))\n",
        "rdd3.collect()"
      ],
      "metadata": {
        "colab": {
          "base_uri": "https://localhost:8080/"
        },
        "id": "qoABfKvYCVtr",
        "outputId": "cf73c492-1d8f-4207-ff10-ad94f17b0f69"
      },
      "execution_count": 3,
      "outputs": [
        {
          "output_type": "execute_result",
          "data": {
            "text/plain": [
              "[('Alice', 75.0), ('Bob', 87.5), ('Charlie', 60.0)]"
            ]
          },
          "metadata": {},
          "execution_count": 3
        }
      ]
    },
    {
      "cell_type": "code",
      "source": [
        "numbers = [5, 3, 4, 5, 2, 3, 5, 3, 4]\n",
        "\n",
        "rdd = sc.parallelize(numbers)\n",
        "\n",
        "rdd1 = rdd.map(lambda x : (x,1))\n",
        "\n",
        "rdd2 = rdd1.reduceByKey(lambda x,y : x+y)\n",
        "\n",
        "rdd3 = rdd2.map(lambda x : (x[1],x[0]))\n",
        "\n",
        "rdd4 = rdd3.sortByKey(ascending=False)\n",
        "rdd4.take(3)"
      ],
      "metadata": {
        "colab": {
          "base_uri": "https://localhost:8080/"
        },
        "id": "hmofqq82Gby-",
        "outputId": "08c66f6f-1561-4833-8525-aac68a18497f"
      },
      "execution_count": 4,
      "outputs": [
        {
          "output_type": "execute_result",
          "data": {
            "text/plain": [
              "[(3, 5), (3, 3), (2, 4)]"
            ]
          },
          "metadata": {},
          "execution_count": 4
        }
      ]
    },
    {
      "cell_type": "code",
      "source": [],
      "metadata": {
        "id": "ROqoLlCBUEWs"
      },
      "execution_count": 8,
      "outputs": []
    }
  ]
}